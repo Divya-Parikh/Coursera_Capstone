{
 "cells": [
  {
   "cell_type": "markdown",
   "metadata": {},
   "source": [
    "The Battle of Neighborhoods"
   ]
  },
  {
   "cell_type": "markdown",
   "metadata": {
    "collapsed": true
   },
   "source": [
    "Business Problem : In Canada, in the borough of Downtown Toronto, if someone wants to open a Yoga Studio, in which Neighborhood, would you recommend opening it?\n",
    "Solution : I would recommend opening a Yoga Studio in a Neighborhood, which doesn’t have even one Yoga Studio\n",
    "\n",
    "Data being used : \n",
    "1.\tUse Canada_Postal_Codes_Lat_Lon.csv, which has all boroughs, neighborhoods, postal code, latitude, longitude of Canada.\n",
    "2.\tCreate a dataframe by filtering on Borough = Downtown Toronto, to check out all the neighborhoods for that borough\n",
    "3.\tCreate a map of Toronto and mark the neighborhoods\n",
    "4.\tDefine the Foursquare Credentials and Version\n",
    "5.\tExplore the neighborhoods in Downtown Toronto using the Foursquare API  and get the Venue, Venue Category for each Neighborhood\n",
    "6.\tCreate a new dataframe which only has Venue Category = ‘Yoga Studio’ and get the list of unique Neighborhoods\n",
    "7.\tSelect Neighborhoods from dataframe created in step 2, which is not in list of unique Neighborhoods from step 6\n",
    "\n",
    "Results/Conclusion :\n",
    "1.\tThe neighborhoods identified in Step 7 above, are the ones where it would be benefical/profitable to open a Yoga Studio\n"
   ]
  },
  {
   "cell_type": "code",
   "execution_count": null,
   "metadata": {},
   "outputs": [],
   "source": []
  }
 ],
 "metadata": {
  "kernelspec": {
   "display_name": "Python 3.6",
   "language": "python",
   "name": "python3"
  },
  "language_info": {
   "codemirror_mode": {
    "name": "ipython",
    "version": 3
   },
   "file_extension": ".py",
   "mimetype": "text/x-python",
   "name": "python",
   "nbconvert_exporter": "python",
   "pygments_lexer": "ipython3",
   "version": "3.6.9"
  }
 },
 "nbformat": 4,
 "nbformat_minor": 1
}
